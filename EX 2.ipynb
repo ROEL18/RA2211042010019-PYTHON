{
  "nbformat": 4,
  "nbformat_minor": 0,
  "metadata": {
    "colab": {
      "provenance": [],
      "authorship_tag": "ABX9TyPzdZAYqN5gqLHc1jbc+LIC",
      "include_colab_link": true
    },
    "kernelspec": {
      "name": "python3",
      "display_name": "Python 3"
    },
    "language_info": {
      "name": "python"
    }
  },
  "cells": [
    {
      "cell_type": "markdown",
      "metadata": {
        "id": "view-in-github",
        "colab_type": "text"
      },
      "source": [
        "<a href=\"https://colab.research.google.com/github/ROEL18/RA2211042010019-PYTHON/blob/main/Untitled1.ipynb\" target=\"_parent\"><img src=\"https://colab.research.google.com/assets/colab-badge.svg\" alt=\"Open In Colab\"/></a>"
      ]
    },
    {
      "cell_type": "code",
      "execution_count": 1,
      "metadata": {
        "colab": {
          "base_uri": "https://localhost:8080/"
        },
        "id": "Iq3GvN9dLHkD",
        "outputId": "b87563a6-6343-45ae-e96f-bfe315c29b2f"
      },
      "outputs": [
        {
          "output_type": "execute_result",
          "data": {
            "text/plain": [
              "60"
            ]
          },
          "metadata": {},
          "execution_count": 1
        }
      ],
      "source": [
        "25+35"
      ]
    },
    {
      "cell_type": "markdown",
      "source": [
        "1"
      ],
      "metadata": {
        "id": "WfmJnlkjZT2I"
      }
    },
    {
      "cell_type": "code",
      "source": [
        "\n",
        "#taking input from the user \n",
        "num = int(input(\"Enter a number\"))\n",
        "\n"
      ],
      "metadata": {
        "colab": {
          "base_uri": "https://localhost:8080/"
        },
        "id": "lBh6cwk3LaUH",
        "outputId": "d79bac09-2ea2-40ee-df4e-b90430195b5d"
      },
      "execution_count": 3,
      "outputs": [
        {
          "name": "stdout",
          "output_type": "stream",
          "text": [
            "Enter a number67\n"
          ]
        }
      ]
    },
    {
      "cell_type": "markdown",
      "source": [
        "2"
      ],
      "metadata": {
        "id": "mXxp9Xy9ZVi1"
      }
    },
    {
      "cell_type": "code",
      "source": [
        "num = int(input(\"enter a number \"))\n",
        "print(\"square =\",num*num)"
      ],
      "metadata": {
        "colab": {
          "base_uri": "https://localhost:8080/"
        },
        "id": "EeHEV7EHNEOV",
        "outputId": "ee46d42b-9669-4cbd-c879-e969bd38579b"
      },
      "execution_count": 4,
      "outputs": [
        {
          "output_type": "stream",
          "name": "stdout",
          "text": [
            "enter a number 5000\n",
            "square = 25000000\n"
          ]
        }
      ]
    },
    {
      "cell_type": "markdown",
      "source": [
        "3"
      ],
      "metadata": {
        "id": "91oHk06CZWYy"
      }
    },
    {
      "cell_type": "code",
      "source": [
        "print(\"hello world\")"
      ],
      "metadata": {
        "colab": {
          "base_uri": "https://localhost:8080/"
        },
        "id": "2sSB_S7MNszX",
        "outputId": "3c80894e-4e06-4175-b5a0-e787358ed3ec"
      },
      "execution_count": 5,
      "outputs": [
        {
          "output_type": "stream",
          "name": "stdout",
          "text": [
            "hello world\n"
          ]
        }
      ]
    },
    {
      "cell_type": "markdown",
      "source": [
        "4"
      ],
      "metadata": {
        "id": "BcAR1OVpZXkp"
      }
    },
    {
      "cell_type": "code",
      "source": [
        "num = int(input(\"enter a number \"))\n",
        "print(\"cube =\",num*num*num)"
      ],
      "metadata": {
        "colab": {
          "base_uri": "https://localhost:8080/"
        },
        "id": "2DyoOPDmNxL4",
        "outputId": "583ece78-a3b7-45fa-be2a-dbd9c26f273f"
      },
      "execution_count": 6,
      "outputs": [
        {
          "output_type": "stream",
          "name": "stdout",
          "text": [
            "enter a number 56\n",
            "cube = 175616\n"
          ]
        }
      ]
    },
    {
      "cell_type": "markdown",
      "source": [
        "5"
      ],
      "metadata": {
        "id": "20tQuS-oZYs3"
      }
    },
    {
      "cell_type": "code",
      "source": [
        "\n",
        "a = int(input(\"a=\"))\n",
        "b = int(input(\"b=\"))\n",
        "print(\"area of rectangle =\",a*b)"
      ],
      "metadata": {
        "colab": {
          "base_uri": "https://localhost:8080/"
        },
        "id": "Z08kVi9nOLqu",
        "outputId": "1e9553f0-0ee9-4a2f-dfab-94368db195a8"
      },
      "execution_count": 7,
      "outputs": [
        {
          "output_type": "stream",
          "name": "stdout",
          "text": [
            "a=4\n",
            "b=5\n",
            "area of rectangle = 20\n"
          ]
        }
      ]
    },
    {
      "cell_type": "markdown",
      "source": [
        "6"
      ],
      "metadata": {
        "id": "YbWqsAgjZZwY"
      }
    },
    {
      "cell_type": "code",
      "source": [
        "list=[1,2,2,3,4,4,555,6,7,7,9,0]\n",
        "print(list[4])"
      ],
      "metadata": {
        "colab": {
          "base_uri": "https://localhost:8080/"
        },
        "id": "8tMCked-O-Q8",
        "outputId": "bba52aba-53ca-4735-86d1-9c1fbb358ff4"
      },
      "execution_count": 8,
      "outputs": [
        {
          "output_type": "stream",
          "name": "stdout",
          "text": [
            "4\n"
          ]
        }
      ]
    },
    {
      "cell_type": "markdown",
      "source": [
        "7"
      ],
      "metadata": {
        "id": "SDEI3ePoZbBM"
      }
    },
    {
      "cell_type": "code",
      "source": [
        "d = {'a':10,'b':20,'c':30}\n"
      ],
      "metadata": {
        "id": "C4LK1yXNPg4q"
      },
      "execution_count": 14,
      "outputs": []
    },
    {
      "cell_type": "markdown",
      "source": [
        "8"
      ],
      "metadata": {
        "id": "OC_1NYvkZcc9"
      }
    },
    {
      "cell_type": "code",
      "source": [
        "tuple1=(23,34,45)\n"
      ],
      "metadata": {
        "id": "yyhPuLDjRHVp"
      },
      "execution_count": 20,
      "outputs": []
    },
    {
      "cell_type": "markdown",
      "source": [
        "9"
      ],
      "metadata": {
        "id": "TtuJOgKtZdR4"
      }
    },
    {
      "cell_type": "code",
      "source": [
        "a=2\n",
        "\n",
        "b=3\n",
        "c=a+b\n",
        "print(c)\n"
      ],
      "metadata": {
        "colab": {
          "base_uri": "https://localhost:8080/"
        },
        "id": "_ApIuI0bSrw1",
        "outputId": "593f5362-8c53-482d-89d6-2fdc7e6133a4"
      },
      "execution_count": 23,
      "outputs": [
        {
          "output_type": "stream",
          "name": "stdout",
          "text": [
            "5\n"
          ]
        }
      ]
    },
    {
      "cell_type": "markdown",
      "source": [
        "10"
      ],
      "metadata": {
        "id": "i_X4mp55Zd-N"
      }
    },
    {
      "cell_type": "code",
      "source": [
        "a=34\n",
        "b=67\n",
        "c=5006\n",
        "d=a/c+3*b\n",
        "e=d/100\n",
        "print(e)"
      ],
      "metadata": {
        "colab": {
          "base_uri": "https://localhost:8080/"
        },
        "id": "7N0NNIs0TjUR",
        "outputId": "e857f180-99c7-46d6-8cf4-e199bc869a30"
      },
      "execution_count": 24,
      "outputs": [
        {
          "output_type": "stream",
          "name": "stdout",
          "text": [
            "2.0100679184978025\n"
          ]
        }
      ]
    },
    {
      "cell_type": "markdown",
      "source": [
        "11"
      ],
      "metadata": {
        "id": "fueXukToZfR5"
      }
    },
    {
      "cell_type": "code",
      "source": [
        "a =int(input(\"enter no. a\"))\n",
        "b =int(input(\"enter no. b\"))\n",
        "c = int(input(\"enter no. c\"))\n",
        "if a<=b and a<c:\n",
        " print(\"a is smallest\")\n",
        "elif b<=a and b<=c:\n",
        "  print(\"b is smallest\")\n",
        "elif c<=a and c<=b:\n",
        "print(\"c is smallest\")"
      ],
      "metadata": {
        "colab": {
          "base_uri": "https://localhost:8080/",
          "height": 131
        },
        "id": "-Yz-MpgSWelF",
        "outputId": "56c3639a-6cee-4cbb-adf4-4230843bdb99"
      },
      "execution_count": 38,
      "outputs": [
        {
          "output_type": "error",
          "ename": "IndentationError",
          "evalue": "ignored",
          "traceback": [
            "\u001b[0;36m  File \u001b[0;32m\"<ipython-input-38-2571f3bdde19>\"\u001b[0;36m, line \u001b[0;32m9\u001b[0m\n\u001b[0;31m    print(\"c is smallest\")\u001b[0m\n\u001b[0m        ^\u001b[0m\n\u001b[0;31mIndentationError\u001b[0m\u001b[0;31m:\u001b[0m expected an indented block\n"
          ]
        }
      ]
    },
    {
      "cell_type": "markdown",
      "source": [
        "12"
      ],
      "metadata": {
        "id": "yS3Zf5v_ZgtJ"
      }
    },
    {
      "cell_type": "code",
      "source": [],
      "metadata": {
        "id": "W9zI5gSrZi6G"
      },
      "execution_count": null,
      "outputs": []
    }
  ]
}
